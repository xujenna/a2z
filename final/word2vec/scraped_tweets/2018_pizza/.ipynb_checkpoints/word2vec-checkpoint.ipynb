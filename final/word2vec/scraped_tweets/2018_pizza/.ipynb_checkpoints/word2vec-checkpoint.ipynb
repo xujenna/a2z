{
 "cells": [
  {
   "cell_type": "code",
   "execution_count": 1,
   "metadata": {
    "collapsed": true
   },
   "outputs": [],
   "source": [
    "import json\n",
    "import nltk\n",
    "from nltk.corpus import stopwords\n",
    "import gensim.models.word2vec as w2v\n",
    "from nltk.corpus import wordnet"
   ]
  },
  {
   "cell_type": "code",
   "execution_count": 2,
   "metadata": {
    "collapsed": true
   },
   "outputs": [],
   "source": [
    "#load the corpus as a string\n",
    "\n",
    "source_text = \"\"\n",
    "\n",
    "substring = \"https://www.swarmapp.com/\"\n",
    "\n",
    "with open(\"tweets.csv\", \"r\") as f:\n",
    "    for line in f:\n",
    "        if substring in line:\n",
    "            continue\n",
    "        else:\n",
    "            source_text += line\n",
    "            source_text += \" \""
   ]
  },
  {
   "cell_type": "code",
   "execution_count": 3,
   "metadata": {
    "collapsed": true
   },
   "outputs": [],
   "source": [
    "#split string into sentences\n",
    "\n",
    "tokenizer = nltk.data.load(\"tokenizers/punkt/english.pickle\")\n",
    "raw_sentences = tokenizer.tokenize(source_text)"
   ]
  },
  {
   "cell_type": "code",
   "execution_count": 29,
   "metadata": {},
   "outputs": [
    {
     "data": {
      "text/plain": [
       "'Free food and drink to celebrate our opening!'"
      ]
     },
     "execution_count": 29,
     "metadata": {},
     "output_type": "execute_result"
    }
   ],
   "source": [
    "raw_sentences[1500]"
   ]
  },
  {
   "cell_type": "code",
   "execution_count": 8,
   "metadata": {
    "collapsed": true
   },
   "outputs": [],
   "source": [
    "#clean each sentence, saving semantically meaningful words into an array\n",
    "\n",
    "substring = \"http\"\n",
    "\n",
    "def sentence_to_wordlist(raw):\n",
    "    stopWords = set(stopwords.words('english'))\n",
    "    words = raw.lower().split()\n",
    "    tokenized = tokenizer.tokenize(raw)\n",
    "    sentenceArray = []\n",
    "\n",
    "    for word in words:\n",
    "        if word in stopWords or substring in word:\n",
    "            continue\n",
    "        else:\n",
    "            sentenceArray.append(word)\n",
    "            \n",
    "    # Create a list of words\n",
    "    return sentenceArray"
   ]
  },
  {
   "cell_type": "code",
   "execution_count": 22,
   "metadata": {},
   "outputs": [],
   "source": [
    "cleaned_sentences = []\n",
    "for raw in raw_sentences:\n",
    "    cleaned_sentences.append(sentence_to_wordlist(raw))"
   ]
  },
  {
   "cell_type": "code",
   "execution_count": 25,
   "metadata": {},
   "outputs": [
    {
     "name": "stdout",
     "output_type": "stream",
     "text": [
      "['…\"', 'sat', 'pizza', 'crust', 'lyft', 'airport', 'morning', 'didn’t', 'realize', 'halfway', 'there.']\n"
     ]
    }
   ],
   "source": [
    "print(cleaned_sentences[450])"
   ]
  },
  {
   "cell_type": "code",
   "execution_count": 30,
   "metadata": {},
   "outputs": [
    {
     "name": "stderr",
     "output_type": "stream",
     "text": [
      "/anaconda/lib/python3.6/site-packages/ipykernel_launcher.py:5: DeprecationWarning: Call to deprecated `iter` (Attribute will be removed in 4.0.0, use self.epochs instead).\n",
      "  \"\"\"\n"
     ]
    },
    {
     "data": {
      "text/plain": [
       "(505843, 781885)"
      ]
     },
     "execution_count": 30,
     "metadata": {},
     "output_type": "execute_result"
    }
   ],
   "source": [
    "#build the w2v model\n",
    "\n",
    "model = w2v.Word2Vec(sg=1,seed=1,workers= 4,size=100,min_count=3,window=15,sample=1e-3)\n",
    "model.build_vocab(cleaned_sentences)\n",
    "model.train(cleaned_sentences, total_examples=model.corpus_count,epochs=model.iter)"
   ]
  },
  {
   "cell_type": "code",
   "execution_count": 31,
   "metadata": {},
   "outputs": [
    {
     "name": "stdout",
     "output_type": "stream",
     "text": [
      "Word2Vec(vocab=6841, size=100, alpha=0.025)\n"
     ]
    }
   ],
   "source": [
    "print(model)"
   ]
  },
  {
   "cell_type": "code",
   "execution_count": 32,
   "metadata": {
    "collapsed": true
   },
   "outputs": [],
   "source": [
    "#save the model as a lookup dictionary json\n",
    "\n",
    "vectorsDict = {}\n",
    "for sentence in cleaned_sentences:\n",
    "    for word in sentence:\n",
    "        keys = list(vectorsDict.keys())\n",
    "        if word not in keys:\n",
    "            try:\n",
    "                vectorsDict[word] = model.wv[word].tolist()\n",
    "            except:\n",
    "                continue"
   ]
  },
  {
   "cell_type": "code",
   "execution_count": 33,
   "metadata": {
    "collapsed": true
   },
   "outputs": [],
   "source": [
    "with open(\"pizzaTweets.json\", \"w+\") as f:\n",
    "    json.dump(vectorsDict, f)"
   ]
  },
  {
   "cell_type": "code",
   "execution_count": null,
   "metadata": {
    "collapsed": true
   },
   "outputs": [],
   "source": []
  }
 ],
 "metadata": {
  "kernelspec": {
   "display_name": "Python 3",
   "language": "python",
   "name": "python3"
  },
  "language_info": {
   "codemirror_mode": {
    "name": "ipython",
    "version": 3
   },
   "file_extension": ".py",
   "mimetype": "text/x-python",
   "name": "python",
   "nbconvert_exporter": "python",
   "pygments_lexer": "ipython3",
   "version": "3.6.1"
  }
 },
 "nbformat": 4,
 "nbformat_minor": 2
}
